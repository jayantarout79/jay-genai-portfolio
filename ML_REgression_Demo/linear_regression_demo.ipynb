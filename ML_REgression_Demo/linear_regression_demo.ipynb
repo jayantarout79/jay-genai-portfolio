{
 "cells": [
  {
   "cell_type": "raw",
   "id": "b1ff8d40-4264-4035-919d-a2a8aea6936d",
   "metadata": {
    "scrolled": true
   },
   "source": [
    "\n",
    "#@title Code - Load dependencies\n",
    "\n",
    "# data\n",
    "import numpy as np\n",
    "import pandas as pd\n",
    "\n",
    "# machine learning\n",
    "from sklearn.linear_model import LinearRegression\n",
    "from sklearn.impute import SimpleImputer\n",
    "\n",
    "\n",
    "# data visualization\n",
    "import plotly.express as px\n",
    "\n",
    "import pandas as pd\n",
    "import plotly.express as px\n",
    "training_df=pd.read_csv('chicago_taxi_train.csv')\n",
    "training_df.describe()"
   ]
  },
  {
   "cell_type": "code",
   "execution_count": null,
   "id": "54d45f09-73db-40f7-a727-282d53f6a330",
   "metadata": {},
   "outputs": [],
   "source": [
    "max_fare=training_df['FARE'].max()\n",
    "print(\"What is the maximum fare? \t\t\t\tAnswer: ${fare:.2f}\".format(fare = max_fare))"
   ]
  },
  {
   "cell_type": "code",
   "execution_count": null,
   "id": "a6ac0156-798f-440c-876e-246e47f7c3d8",
   "metadata": {},
   "outputs": [],
   "source": [
    "mean_distance = training_df['TRIP_MILES'].mean()\n",
    "print(\"What is the mean distance across all trips? \t\tAnswer: {mean:.4f} miles\".format(mean = mean_distance))"
   ]
  },
  {
   "cell_type": "code",
   "execution_count": null,
   "id": "b40c7871-b1d7-4d80-a451-b3ee8b3b4270",
   "metadata": {},
   "outputs": [],
   "source": [
    "num_unique_companies =  training_df['COMPANY'].nunique()\n",
    "print(num_unique_companies)\n",
    "print(\"How many cab companies are in the dataset? \t\tAnswer: {number}\".format(number = num_unique_companies))"
   ]
  },
  {
   "cell_type": "code",
   "execution_count": null,
   "id": "f06f75c4-a54f-46bc-a021-6feab880baf4",
   "metadata": {},
   "outputs": [],
   "source": [
    "# What is the most frequent payment type?\n",
    "most_freq_payment_type = training_df['PAYMENT_TYPE'].value_counts().idxmax()\n",
    "print(\"What is the most frequent payment type? \t\tAnswer: {type}\".format(type = most_freq_payment_type))"
   ]
  },
  {
   "cell_type": "code",
   "execution_count": null,
   "id": "4b1cf228-5ce6-4ca1-8fd1-c39ee9dacd01",
   "metadata": {},
   "outputs": [],
   "source": [
    "# Are any features missing data?\n",
    "missing_values = training_df.isnull().sum().sum()\n",
    "print(missing_values)\n",
    "print(\"Are any features missing data? \t\t\t\tAnswer:\", \"No\" if missing_values == 0 else \"Yes\")"
   ]
  },
  {
   "cell_type": "code",
   "execution_count": null,
   "id": "9f467b65-8bcd-4eb0-9829-de51f5e1ab3b",
   "metadata": {},
   "outputs": [],
   "source": [
    "#@title Code - View correlation matrix\n",
    "training_df.corr(numeric_only=True)"
   ]
  },
  {
   "cell_type": "code",
   "execution_count": null,
   "id": "aa09d111-7df3-46f7-bfaf-e28ef4aeab57",
   "metadata": {},
   "outputs": [],
   "source": [
    "#@title Code - View pairplot\n",
    "px.scatter_matrix(training_df, dimensions=[\"FARE\", \"TRIP_MILES\", \"TRIP_SECONDS\"])"
   ]
  },
  {
   "cell_type": "code",
   "execution_count": null,
   "id": "407ba89e-0f81-4d7f-8c44-9350b4f009db",
   "metadata": {},
   "outputs": [],
   "source": [
    "\n",
    "model = LinearRegression()\n",
    "X=training_df.drop(columns=['FARE','TRIP_START_TIMESTAMP','TRIP_END_TIMESTAMP','PAYMENT_TYPE','COMPANY'])\n",
    "y=training_df['FARE']\n",
    "\n",
    "imputer = SimpleImputer(strategy='mean')  # or 'median', 'most_frequent', etc.\n",
    "X_imputed = imputer.fit_transform(X)\n",
    "X = pd.DataFrame(X_imputed, columns=X.columns)\n",
    "\n",
    "#print(X.dtypes)\n",
    "training_df\n",
    "model.fit(X,y)"
   ]
  },
  {
   "cell_type": "code",
   "execution_count": null,
   "id": "445aeb59-49d5-46f2-88ff-b05448dde6fc",
   "metadata": {},
   "outputs": [],
   "source": [
    "print(X.columns.tolist())\n",
    "input_data = pd.DataFrame([[\n",
    "    14,         # TRIP_START_HOUR (2 PM)\n",
    "    600,        # TRIP_SECONDS (10 min)\n",
    "    4.2,        # TRIP_MILES\n",
    "    25.2,       # TRIP_SPEED\n",
    "    17031050100, # PICKUP_CENSUS_TRACT\n",
    "    17031050300, # DROPOFF_CENSUS_TRACT\n",
    "    32,         # PICKUP_COMMUNITY_AREA\n",
    "    8,          # DROPOFF_COMMUNITY_AREA\n",
    "    3.5,        # TIPS\n",
    "    0.15,       # TIP_RATE\n",
    "    0.0,        # TOLLS\n",
    "    1.0,        # EXTRAS\n",
    "    23.7        # TRIP_TOTAL\n",
    "]], columns=[\n",
    "    'TRIP_START_HOUR', 'TRIP_SECONDS', 'TRIP_MILES', 'TRIP_SPEED',\n",
    "    'PICKUP_CENSUS_TRACT', 'DROPOFF_CENSUS_TRACT', 'PICKUP_COMMUNITY_AREA',\n",
    "    'DROPOFF_COMMUNITY_AREA', 'TIPS', 'TIP_RATE', 'TOLLS', 'EXTRAS', 'TRIP_TOTAL'\n",
    "])\n",
    "prediction = model.predict(input_data)\n",
    "print(\"Predicted FARE:\", prediction[0])"
   ]
  },
  {
   "cell_type": "code",
   "execution_count": null,
   "id": "1fec3f94-7c59-498c-8b1d-9575e644f75e",
   "metadata": {},
   "outputs": [],
   "source": []
  }
 ],
 "metadata": {
  "kernelspec": {
   "display_name": "Python (base)",
   "language": "python",
   "name": "base"
  },
  "language_info": {
   "codemirror_mode": {
    "name": "ipython",
    "version": 3
   },
   "file_extension": ".py",
   "mimetype": "text/x-python",
   "name": "python",
   "nbconvert_exporter": "python",
   "pygments_lexer": "ipython3",
   "version": "3.13.5"
  }
 },
 "nbformat": 4,
 "nbformat_minor": 5
}
